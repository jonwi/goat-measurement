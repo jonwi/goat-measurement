{
 "cells": [
  {
   "cell_type": "code",
   "execution_count": null,
   "id": "68c58db8",
   "metadata": {},
   "outputs": [],
   "source": [
    "from ultralytics import YOLO, SAM\n",
    "import numpy as np\n",
    "import pandas as pd\n",
    "import matplotlib.pyplot as plt \n",
    "import utils\n",
    "import math\n",
    "import os\n",
    "import json\n",
    "import cv2\n",
    "import glob"
   ]
  },
  {
   "cell_type": "code",
   "execution_count": null,
   "id": "10081226",
   "metadata": {},
   "outputs": [],
   "source": [
    "model = YOLO(\"best.pt\")"
   ]
  },
  {
   "cell_type": "code",
   "execution_count": null,
   "id": "da88cf13",
   "metadata": {},
   "outputs": [],
   "source": [
    "\n",
    "path = \"datasets/zweite_messung\"\n",
    "results = model.predict(path)\n",
    "lst = os.listdir(path)\n",
    "data = {}"
   ]
  },
  {
   "cell_type": "code",
   "execution_count": null,
   "id": "aa40a278",
   "metadata": {},
   "outputs": [],
   "source": [
    "def area(mask, angle, distance):\n",
    "    angleFactor = 1/math.cos(angle*math.pi/180)\n",
    "    distanceFactor = distance*distance\n",
    "    correctedHeight = int(mask.shape[0]*angleFactor)\n",
    "    resized = cv2.resize(mask, dsize=(mask.shape[1], correctedHeight), interpolation=cv2.INTER_CUBIC)\n",
    "    print(\"angleFactor\", angleFactor, \"correctedHeight\", correctedHeight, \"distanceFactor\", distanceFactor)\n",
    "    return np.sum(resized)* distanceFactor"
   ]
  },
  {
   "cell_type": "code",
   "execution_count": null,
   "id": "87661c7f",
   "metadata": {},
   "outputs": [],
   "source": [
    "for f in lst:\n",
    "    _, name  = os.path.split(f)\n",
    "    base, ending = name.split(\".\")\n",
    "    number = base.split(\"_\")[0]\n",
    "    if ending != \"json\":\n",
    "        continue\n",
    "    with open(os.path.join(path, f))as file:\n",
    "        d = json.load(file)\n",
    "        data[number] = d\n",
    "\n",
    "yolodata = {}\n",
    "\n",
    "for result in results:\n",
    "    biggest = 0\n",
    "    biggest_a = 0\n",
    "    for index, (_, _, w, h) in enumerate(result.boxes.xywh):\n",
    "        a = w*h\n",
    "        if a > biggest_a:\n",
    "            biggest = index\n",
    "            biggest_a = a\n",
    "\n",
    "    _, name = os.path.split(result.path)\n",
    "    number = name.split(\"_\")[0]\n",
    "    mask = result.masks.data.cpu().numpy()[biggest, :, :]\n",
    "    angle = data[number][\"Angle\"]\n",
    "    distance = data[number][\"Distance\"]\n",
    "    proxy = area(mask, angle, distance)\n",
    "    conf = result.boxes.conf.cpu().numpy()[biggest]\n",
    "    print(name)\n",
    "    print(\"raw sum\", np.sum(mask))\n",
    "    print(\"index\", biggest, \"conf\", conf, \"proxy\", proxy, \"angle\", angle, \"distance\", distance)\n",
    "    utils.plot(result)\n",
    "    yolodata[number] = proxy"
   ]
  },
  {
   "cell_type": "code",
   "execution_count": null,
   "id": "fdd9abfb",
   "metadata": {},
   "outputs": [],
   "source": [
    "def distance_from_name(name):\n",
    "    if \"Diego\" in name:\n",
    "        return 2.3\n",
    "    if \"Twentyone\" in name:\n",
    "        return 1.64\n",
    "    if \"Carina\" in name:\n",
    "        return 1.59\n",
    "    if \"Zara\" in name:\n",
    "        return 1.62\n",
    "    if \"Zarra\" in name:\n",
    "        return 1.62\n",
    "    if \"36175\" in name:\n",
    "        return 1.27\n",
    "    raise Exception(\"unknown name\", name)"
   ]
  },
  {
   "cell_type": "code",
   "execution_count": null,
   "id": "48243cc0",
   "metadata": {},
   "outputs": [],
   "source": [
    "path = \"datasets/erste_messung\"\n",
    "results = model.predict(path)\n",
    "lst = os.listdir(path)\n",
    "data = {}"
   ]
  },
  {
   "cell_type": "code",
   "execution_count": null,
   "id": "a2811934",
   "metadata": {},
   "outputs": [],
   "source": [
    "for result in results:\n",
    "    head, tail = os.path.split(result.path)\n",
    "    mask = result.masks.data.cpu().numpy().squeeze()\n",
    "    angle = 20\n",
    "    distance = distance_from_name(tail)\n",
    "    utils.plot(result)\n",
    "    print(tail)\n",
    "    print(area(mask, angle, distance))"
   ]
  },
  {
   "cell_type": "code",
   "execution_count": null,
   "id": "9894485c",
   "metadata": {},
   "outputs": [],
   "source": [
    "path = \"datasets/zweite_messung\"\n",
    "model = SAM(\"sam2.1_b.pt\")\n",
    "\n",
    "samdata = {}\n",
    "for img_path in glob.glob(\"datasets/referenz/*.png\"):\n",
    "    _, tail = os.path.split(img_path)\n",
    "    number = tail.split(\"_\")[0]\n",
    "    # Run inference with bboxes prompt\n",
    "    img = cv2.imread(img_path)\n",
    "    height, width, _ = img.shape\n",
    "    print(height, width)\n",
    "    results = model(img, points=[width/2, height/2])\n",
    "    angle = data[number][\"Angle\"]\n",
    "    distance = data[number][\"Distance\"]\n",
    "    mask = results[0].masks.data.cpu().numpy().squeeze().astype(float)\n",
    "    proxy = area(mask, angle, distance)\n",
    "    print(tail)\n",
    "    print(proxy)\n",
    "    samdata[number] = proxy\n",
    "    utils.plot(results[0])"
   ]
  },
  {
   "cell_type": "code",
   "execution_count": null,
   "id": "d740f982",
   "metadata": {},
   "outputs": [],
   "source": [
    "for key in yolodata.keys():\n",
    "    yp = yolodata[key]\n",
    "    sp = samdata[key]\n",
    "    print(key)\n",
    "    print(\"yolo\", yp)\n",
    "    print(\"sam\", sp)\n",
    "    print(\"yp/sp\", yp/sp)\n",
    "    print()"
   ]
  },
  {
   "cell_type": "code",
   "execution_count": null,
   "id": "e02487bb",
   "metadata": {},
   "outputs": [],
   "source": [
    "path = \"datasets/erste_referenz\"\n",
    "model = YOLO(\"best.pt\")\n",
    "results = model.predict(path)\n",
    "\n",
    "for result in results:\n",
    "    _, name = os.path.split(result.path)\n",
    "    number = name.split(\"_\")[0]\n",
    "    mask = result.masks.data.cpu().numpy().squeeze()\n",
    "    angle = 20\n",
    "    distance = distance_from_name(name)\n",
    "    proxy = area(mask, angle, distance)\n",
    "    print(name)\n",
    "    print(\"proxy\", proxy)\n",
    "    utils.plot(result)"
   ]
  },
  {
   "cell_type": "code",
   "execution_count": null,
   "id": "760eee9b",
   "metadata": {},
   "outputs": [],
   "source": [
    "# From what I learned by taking calibration photos \n",
    "# at 20cm 1cm is equal to 31.73 pixels\n",
    "# at 30cm 1cm is equal to 22.6190476190 pixels\n",
    "# at 2m 1cm is equal to 2.835 pixels\n",
    "normalized_area1 = 22.6190476190*22.6190476190*0.3*0.3\n",
    "normalized_area2 = 31.73*31.73*0.2*0.2\n",
    "normalized_area3 = 2.835*2.835*2*2\n",
    "print(normalized_area1)\n",
    "print(normalized_area2)\n",
    "print(normalized_area3)"
   ]
  },
  {
   "cell_type": "code",
   "execution_count": null,
   "id": "a7102e1f",
   "metadata": {},
   "outputs": [],
   "source": [
    "# pearson cooefficient for the area for erste messung\n",
    "# there is no correction for the angle done since data was not available\n",
    "from scipy.stats import pearsonr\n",
    "weights = [65.9,82.3,60,74.5,34.8,\n",
    "           67.3,71.6,58,39.4,72.5,37.1,30.7,38.6]\n",
    "lengths = [85,88,85,94,70,\n",
    "          83,89,81,71,88,67,65,67,]\n",
    "hg = [98,105,92,104,79,\n",
    "      98,97,92,80,101,78,80,81]\n",
    "sacrum = [73,75,72,77,63,\n",
    "         74,74,72,69,77,67,62,67,]\n",
    "shoulder = [74,75,72,79,62,\n",
    "            70,71,69,65,79,63,60,65]\n",
    "areas = [126217.6013,157085.518,146242.3731,192738.8976,95095.41843]\n",
    "#area_result = pearsonr(areas, weights)\n",
    "#print(\"area\",\"r\", area_result.correlation, \"p\", area_result.pvalue)\n",
    "hg_result = pearsonr(hg, weights)\n",
    "print(\"hg\",\"r\", hg_result.correlation, \"p\", hg_result.pvalue)\n",
    "shoulder_result = pearsonr(shoulder, weights)\n",
    "print(\"shoulder\", \"r\", shoulder_result.correlation, \"p\", shoulder_result.pvalue)\n",
    "sacrum_result = pearsonr(sacrum, weights)\n",
    "print(\"sacrum\", \"r\", sacrum_result.correlation, \"p\", sacrum_result.pvalue)\n",
    "length_result = pearsonr(lengths, weights)\n",
    "print(\"length\", \"r\", length_result.correlation, \"p\", length_result.pvalue)"
   ]
  }
 ],
 "metadata": {
  "kernelspec": {
   "display_name": ".venv",
   "language": "python",
   "name": "python3"
  },
  "language_info": {
   "codemirror_mode": {
    "name": "ipython",
    "version": 3
   },
   "file_extension": ".py",
   "mimetype": "text/x-python",
   "name": "python",
   "nbconvert_exporter": "python",
   "pygments_lexer": "ipython3",
   "version": "3.11.11"
  }
 },
 "nbformat": 4,
 "nbformat_minor": 5
}
