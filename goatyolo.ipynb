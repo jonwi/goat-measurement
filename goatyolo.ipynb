{
 "cells": [
  {
   "cell_type": "code",
   "execution_count": 1,
   "id": "3069af5d",
   "metadata": {},
   "outputs": [],
   "source": [
    "import utils"
   ]
  },
  {
   "cell_type": "code",
   "execution_count": 35,
   "id": "ddd2147a-03c6-4e84-8e1d-7d87aca751dd",
   "metadata": {},
   "outputs": [],
   "source": [
    "from ultralytics import YOLO\n",
    "\n",
    "# Load a COCO-pretrained YOLO11n-seg model\n",
    "model = YOLO(\"yolo11s-seg.pt\")\n",
    "\n",
    "# Train the model for 100 epochs\n",
    "results = model.train(data=\"datasets/goat_big_color/data.yaml\", epochs=100, imgsz=640, name=\"yolov11s_big_color\", save=True)"
   ]
  },
  {
   "cell_type": "code",
   "execution_count": 1,
   "id": "7814c609-cedd-44ca-921d-2efa2c8b98ff",
   "metadata": {},
   "outputs": [],
   "source": [
    "from ultralytics import YOLO\n",
    "\n",
    "model = YOLO(\"./best.pt\")"
   ]
  },
  {
   "cell_type": "code",
   "execution_count": null,
   "id": "5dd6335f-0a9f-4437-8bbb-15f3e115ae8a",
   "metadata": {},
   "outputs": [],
   "source": [
    "\n",
    "\n",
    "path = \"datasets/goat_yolo_v11/test/images/199_jpg.rf.b5c8920899ddd54b9ab73eb698b3ec2b.jpg\"\n",
    "path = \"datasets/goat_yolo_v11/test/images/1303_jpg.rf.5d2842ed5368d6db2d38ded4e8948237.jpg\"\n",
    "path = \"datasets/goat_yolo_v11/test/images/106_jpg.rf.20ebe916320dc0f47302993b68e3662e.jpg\"\n",
    "path = \"datasets/goat_yolo_v11/test/images/179_jpg.rf.130da7b6ed3713c19597656741428f5e.jpg\"\n",
    "path = \"datasets/goat_yolo_v11/test/images/1294_jpg.rf.22f6fc35b32c014b57856baf0343fd97.jpg\"\n",
    "path = \"datasets/erste_messung\"\n",
    "\n",
    "\n",
    "# Predict with the model\n",
    "results = model(path)  # predict on an image\n",
    "\n",
    "for result in results:\n",
    "    utils.plot(result)\n",
    "\n"
   ]
  },
  {
   "cell_type": "code",
   "execution_count": 7,
   "id": "21b22504-251e-463d-898f-417f22f61acd",
   "metadata": {},
   "outputs": [
    {
     "data": {
      "text/plain": [
       "array([[[ 94, 146, 187],\n",
       "        [ 94, 146, 187],\n",
       "        [ 94, 146, 187],\n",
       "        ...,\n",
       "        [215, 208, 210],\n",
       "        [215, 208, 210],\n",
       "        [215, 208, 210]],\n",
       "\n",
       "       [[ 94, 146, 187],\n",
       "        [ 94, 146, 187],\n",
       "        [ 94, 146, 187],\n",
       "        ...,\n",
       "        [215, 208, 210],\n",
       "        [215, 208, 210],\n",
       "        [215, 208, 210]],\n",
       "\n",
       "       [[ 94, 146, 187],\n",
       "        [ 94, 146, 187],\n",
       "        [ 94, 146, 187],\n",
       "        ...,\n",
       "        [215, 208, 210],\n",
       "        [215, 208, 210],\n",
       "        [215, 208, 210]],\n",
       "\n",
       "       ...,\n",
       "\n",
       "       [[127, 166, 195],\n",
       "        [127, 166, 195],\n",
       "        [127, 166, 195],\n",
       "        ...,\n",
       "        [ 62,  73,  82],\n",
       "        [ 62,  73,  82],\n",
       "        [ 62,  73,  82]],\n",
       "\n",
       "       [[127, 166, 195],\n",
       "        [127, 166, 195],\n",
       "        [127, 166, 195],\n",
       "        ...,\n",
       "        [ 62,  73,  82],\n",
       "        [ 62,  73,  82],\n",
       "        [ 62,  73,  82]],\n",
       "\n",
       "       [[127, 166, 195],\n",
       "        [127, 166, 195],\n",
       "        [127, 166, 195],\n",
       "        ...,\n",
       "        [ 62,  73,  82],\n",
       "        [ 62,  73,  82],\n",
       "        [ 62,  73,  82]]], dtype=uint8)"
      ]
     },
     "execution_count": 7,
     "metadata": {},
     "output_type": "execute_result"
    }
   ],
   "source": [
    "results[0].plot()"
   ]
  },
  {
   "cell_type": "code",
   "execution_count": 15,
   "id": "c07baa0a-3036-4ef2-815d-5324380e4475",
   "metadata": {},
   "outputs": [
    {
     "name": "stdout",
     "output_type": "stream",
     "text": [
      "Ultralytics 8.3.80 🚀 Python-3.8.10 torch-2.4.1+cu121 CPU (11th Gen Intel Core(TM) i7-11800H 2.30GHz)\n",
      "\n",
      "\u001b[34m\u001b[1mPyTorch:\u001b[0m starting from 'best.pt' with input shape (1, 3, 640, 640) BCHW and output shape(s) ((1, 37, 8400), (1, 32, 160, 160)) (5.7 MB)\n",
      "\n",
      "\u001b[34m\u001b[1mTensorFlow SavedModel:\u001b[0m starting export with tensorflow 2.13.1...\n",
      "\n",
      "\u001b[34m\u001b[1mONNX:\u001b[0m starting export with onnx 1.17.0 opset 19...\n",
      "\u001b[34m\u001b[1mONNX:\u001b[0m slimming with onnxslim 0.1.48...\n",
      "\u001b[34m\u001b[1mONNX:\u001b[0m export success ✅ 1.0s, saved as 'best.onnx' (11.1 MB)\n",
      "\u001b[34m\u001b[1mTensorFlow SavedModel:\u001b[0m starting TFLite export with onnx2tf 1.20.0...\n",
      "\u001b[34m\u001b[1mTensorFlow SavedModel:\u001b[0m export success ✅ 16.4s, saved as 'best_saved_model' (27.9 MB)\n",
      "\n",
      "\u001b[34m\u001b[1mTensorFlow GraphDef:\u001b[0m starting export with tensorflow 2.13.1...\n",
      "\u001b[34m\u001b[1mTensorFlow GraphDef:\u001b[0m export success ✅ 1.2s, saved as 'best.pb' (11.1 MB)\n",
      "\n",
      "\u001b[34m\u001b[1mTensorFlow.js:\u001b[0m starting export with tensorflowjs 4.22.0...\n",
      "\n",
      "\u001b[34m\u001b[1mTensorFlow.js:\u001b[0m output node names: Identity:0,Identity_1:0\n",
      "\u001b[34m\u001b[1mTensorFlow.js:\u001b[0m running 'tensorflowjs_converter --input_format=tf_frozen_model  --output_node_names=Identity:0,Identity_1:0 \"best.pb\" \"best_web_model\"'\n"
     ]
    },
    {
     "name": "stderr",
     "output_type": "stream",
     "text": [
      "WARNING:root:TensorFlow Decision Forests 1.5.0 is compatible with the following TensorFlow Versions: ['2.13.0']. However, TensorFlow 2.13.1 was detected. This can cause issues with the TF API and symbols in the custom C++ ops. See the TF and TF-DF compatibility table at https://github.com/tensorflow/decision-forests/blob/main/documentation/known_issues.md#compatibility-table.\n"
     ]
    },
    {
     "name": "stdout",
     "output_type": "stream",
     "text": [
      "weight model_65/tf.strided_slice_45/ones_like/tensor with shape (3,) and dtype int64 was auto converted to the type int32\n",
      "weight model_65/tf.strided_slice_45/StridedSlice/end with shape (3,) and dtype int64 was auto converted to the type int32\n",
      "weight model_65/tf.strided_slice_45/ones_like with shape (3,) and dtype int64 was auto converted to the type int32\n",
      "weight model_65/tf.strided_slice_42/StridedSlice/begin with shape (3,) and dtype int64 was auto converted to the type int32\n",
      "weight model_65/tf.strided_slice_42/StridedSlice/end with shape (3,) and dtype int64 was auto converted to the type int32\n",
      "weight model_65/tf.strided_slice_42/StridedSlice/strides with shape (3,) and dtype int64 was auto converted to the type int32\n",
      "weight model_65/tf.strided_slice_44/ones_like/tensor with shape (3,) and dtype int64 was auto converted to the type int32\n",
      "weight model_65/tf.strided_slice_44/StridedSlice/end with shape (3,) and dtype int64 was auto converted to the type int32\n",
      "weight model_65/tf.strided_slice_44/ones_like with shape (3,) and dtype int64 was auto converted to the type int32\n",
      "weight model_65/tf.strided_slice_43/StridedSlice/begin with shape (3,) and dtype int64 was auto converted to the type int32\n",
      "weight model_65/tf.strided_slice_43/StridedSlice/end with shape (3,) and dtype int64 was auto converted to the type int32\n",
      "weight model_65/tf.strided_slice_43/StridedSlice/strides with shape (3,) and dtype int64 was auto converted to the type int32\n",
      "weight model_65/tf.strided_slice_40/ones_like/tensor with shape (4,) and dtype int64 was auto converted to the type int32\n",
      "weight model_65/tf.strided_slice_40/StridedSlice/end with shape (4,) and dtype int64 was auto converted to the type int32\n",
      "weight model_65/tf.strided_slice_40/ones_like with shape (4,) and dtype int64 was auto converted to the type int32\n",
      "weight model_65/tf.strided_slice_38/ones_like/tensor with shape (4,) and dtype int64 was auto converted to the type int32\n",
      "weight model_65/tf.strided_slice_38/StridedSlice/end with shape (4,) and dtype int64 was auto converted to the type int32\n",
      "weight model_65/tf.strided_slice_38/ones_like with shape (4,) and dtype int64 was auto converted to the type int32\n",
      "weight model_65/tf.strided_slice_39/ones_like/tensor with shape (4,) and dtype int64 was auto converted to the type int32\n",
      "weight model_65/tf.strided_slice_39/StridedSlice/end with shape (4,) and dtype int64 was auto converted to the type int32\n",
      "weight model_65/tf.strided_slice_39/ones_like with shape (4,) and dtype int64 was auto converted to the type int32\n",
      "weight model_65/tf.strided_slice_41/ones_like/tensor with shape (4,) and dtype int64 was auto converted to the type int32\n",
      "weight model_65/tf.strided_slice_41/StridedSlice/end with shape (4,) and dtype int64 was auto converted to the type int32\n",
      "weight model_65/tf.strided_slice_41/ones_like with shape (4,) and dtype int64 was auto converted to the type int32\n",
      "weight model_65/tf.strided_slice_36/ones_like/tensor with shape (4,) and dtype int64 was auto converted to the type int32\n",
      "weight model_65/tf.strided_slice_36/StridedSlice/end with shape (4,) and dtype int64 was auto converted to the type int32\n",
      "weight model_65/tf.strided_slice_36/ones_like with shape (4,) and dtype int64 was auto converted to the type int32\n",
      "weight model_65/tf.strided_slice_34/ones_like/tensor with shape (4,) and dtype int64 was auto converted to the type int32\n",
      "weight model_65/tf.strided_slice_34/StridedSlice/end with shape (4,) and dtype int64 was auto converted to the type int32\n",
      "weight model_65/tf.strided_slice_34/ones_like with shape (4,) and dtype int64 was auto converted to the type int32\n",
      "weight model_65/tf.strided_slice_29/ones_like/tensor with shape (4,) and dtype int64 was auto converted to the type int32\n",
      "weight model_65/tf.strided_slice_29/StridedSlice/end with shape (4,) and dtype int64 was auto converted to the type int32\n",
      "weight model_65/tf.strided_slice_29/ones_like with shape (4,) and dtype int64 was auto converted to the type int32\n",
      "weight model_65/tf.strided_slice_30/ones_like/tensor with shape (4,) and dtype int64 was auto converted to the type int32\n",
      "weight model_65/tf.strided_slice_30/StridedSlice/end with shape (4,) and dtype int64 was auto converted to the type int32\n",
      "weight model_65/tf.strided_slice_30/ones_like with shape (4,) and dtype int64 was auto converted to the type int32\n",
      "weight model_65/tf.strided_slice_27/ones_like/tensor with shape (4,) and dtype int64 was auto converted to the type int32\n",
      "weight model_65/tf.strided_slice_27/StridedSlice/end with shape (4,) and dtype int64 was auto converted to the type int32\n",
      "weight model_65/tf.strided_slice_27/ones_like with shape (4,) and dtype int64 was auto converted to the type int32\n",
      "weight model_65/tf.strided_slice_28/ones_like/tensor with shape (4,) and dtype int64 was auto converted to the type int32\n",
      "weight model_65/tf.strided_slice_28/StridedSlice/end with shape (4,) and dtype int64 was auto converted to the type int32\n",
      "weight model_65/tf.strided_slice_28/ones_like with shape (4,) and dtype int64 was auto converted to the type int32\n",
      "weight model_65/tf.strided_slice_35/ones_like/tensor with shape (4,) and dtype int64 was auto converted to the type int32\n",
      "weight model_65/tf.strided_slice_35/StridedSlice/end with shape (4,) and dtype int64 was auto converted to the type int32\n",
      "weight model_65/tf.strided_slice_35/ones_like with shape (4,) and dtype int64 was auto converted to the type int32\n",
      "weight model_65/tf.strided_slice_25/ones_like/tensor with shape (4,) and dtype int64 was auto converted to the type int32\n",
      "weight model_65/tf.strided_slice_25/StridedSlice/end with shape (4,) and dtype int64 was auto converted to the type int32\n",
      "weight model_65/tf.strided_slice_25/ones_like with shape (4,) and dtype int64 was auto converted to the type int32\n",
      "weight model_65/tf.strided_slice_23/ones_like/tensor with shape (4,) and dtype int64 was auto converted to the type int32\n",
      "weight model_65/tf.strided_slice_23/StridedSlice/end with shape (4,) and dtype int64 was auto converted to the type int32\n",
      "weight model_65/tf.strided_slice_23/ones_like with shape (4,) and dtype int64 was auto converted to the type int32\n",
      "weight model_65/tf.strided_slice_24/ones_like/tensor with shape (4,) and dtype int64 was auto converted to the type int32\n",
      "weight model_65/tf.strided_slice_24/StridedSlice/end with shape (4,) and dtype int64 was auto converted to the type int32\n",
      "weight model_65/tf.strided_slice_24/ones_like with shape (4,) and dtype int64 was auto converted to the type int32\n",
      "weight model_65/tf.strided_slice_26/ones_like/tensor with shape (4,) and dtype int64 was auto converted to the type int32\n",
      "weight model_65/tf.strided_slice_26/StridedSlice/end with shape (4,) and dtype int64 was auto converted to the type int32\n",
      "weight model_65/tf.strided_slice_26/ones_like with shape (4,) and dtype int64 was auto converted to the type int32\n",
      "weight model_65/tf.strided_slice_37/ones_like/tensor with shape (4,) and dtype int64 was auto converted to the type int32\n",
      "weight model_65/tf.strided_slice_37/StridedSlice/end with shape (4,) and dtype int64 was auto converted to the type int32\n",
      "weight model_65/tf.strided_slice_37/ones_like with shape (4,) and dtype int64 was auto converted to the type int32\n",
      "\u001b[34m\u001b[1mTensorFlow.js:\u001b[0m export success ✅ 4.8s, saved as 'best_web_model' (11.3 MB)\n",
      "\n",
      "Export complete (22.7s)\n",
      "Results saved to \u001b[1m/home/jonas/projects/jupyterlab\u001b[0m\n",
      "Predict:         yolo predict task=segment model=best_web_model imgsz=640  \n",
      "Validate:        yolo val task=segment model=best_web_model imgsz=640 data=datasets/goat_yolo_v11-Copy1/data.yaml  \n",
      "Visualize:       https://netron.app\n"
     ]
    },
    {
     "data": {
      "text/plain": [
       "'best_web_model'"
      ]
     },
     "execution_count": 15,
     "metadata": {},
     "output_type": "execute_result"
    }
   ],
   "source": [
    "from ultralytics import YOLO\n",
    "\n",
    "# Load the YOLO11 model\n",
    "# model = YOLO(\"yolo11n.pt\")\n",
    "\n",
    "# Export the model to TF.js format\n",
    "model.export(format=\"tfjs\")  # creates '/yolo11n_web_model'\n",
    "\n"
   ]
  },
  {
   "cell_type": "code",
   "execution_count": 16,
   "id": "52a051d8-f7ba-4d51-9905-f4b777a4eef1",
   "metadata": {},
   "outputs": [
    {
     "name": "stdout",
     "output_type": "stream",
     "text": [
      "WARNING ⚠️ Unable to automatically guess model task, assuming 'task=detect'. Explicitly define task for your model, i.e. 'task=detect', 'segment', 'classify','pose' or 'obb'.\n"
     ]
    },
    {
     "ename": "NotImplementedError",
     "evalue": "YOLOv8 TF.js inference is not currently supported.",
     "output_type": "error",
     "traceback": [
      "\u001b[0;31m---------------------------------------------------------------------------\u001b[0m",
      "\u001b[0;31mNotImplementedError\u001b[0m                       Traceback (most recent call last)",
      "Cell \u001b[0;32mIn[16], line 5\u001b[0m\n\u001b[1;32m      2\u001b[0m tfjs_model \u001b[38;5;241m=\u001b[39m YOLO(\u001b[38;5;124m\"\u001b[39m\u001b[38;5;124m./best_web_model\u001b[39m\u001b[38;5;124m\"\u001b[39m)\n\u001b[1;32m      4\u001b[0m \u001b[38;5;66;03m# Run inference\u001b[39;00m\n\u001b[0;32m----> 5\u001b[0m results \u001b[38;5;241m=\u001b[39m \u001b[43mtfjs_model\u001b[49m\u001b[43m(\u001b[49m\u001b[38;5;124;43m\"\u001b[39;49m\u001b[38;5;124;43mdatasets/goat_yolo_v11/test/images/1294_jpg.rf.22f6fc35b32c014b57856baf0343fd97.jpg\u001b[39;49m\u001b[38;5;124;43m\"\u001b[39;49m\u001b[43m)\u001b[49m\n",
      "File \u001b[0;32m~/.local/lib/python3.8/site-packages/ultralytics/engine/model.py:182\u001b[0m, in \u001b[0;36mModel.__call__\u001b[0;34m(self, source, stream, **kwargs)\u001b[0m\n\u001b[1;32m    153\u001b[0m \u001b[38;5;28;01mdef\u001b[39;00m \u001b[38;5;21m__call__\u001b[39m(\n\u001b[1;32m    154\u001b[0m     \u001b[38;5;28mself\u001b[39m,\n\u001b[1;32m    155\u001b[0m     source: Union[\u001b[38;5;28mstr\u001b[39m, Path, \u001b[38;5;28mint\u001b[39m, Image\u001b[38;5;241m.\u001b[39mImage, \u001b[38;5;28mlist\u001b[39m, \u001b[38;5;28mtuple\u001b[39m, np\u001b[38;5;241m.\u001b[39mndarray, torch\u001b[38;5;241m.\u001b[39mTensor] \u001b[38;5;241m=\u001b[39m \u001b[38;5;28;01mNone\u001b[39;00m,\n\u001b[1;32m    156\u001b[0m     stream: \u001b[38;5;28mbool\u001b[39m \u001b[38;5;241m=\u001b[39m \u001b[38;5;28;01mFalse\u001b[39;00m,\n\u001b[1;32m    157\u001b[0m     \u001b[38;5;241m*\u001b[39m\u001b[38;5;241m*\u001b[39mkwargs: Any,\n\u001b[1;32m    158\u001b[0m ) \u001b[38;5;241m-\u001b[39m\u001b[38;5;241m>\u001b[39m \u001b[38;5;28mlist\u001b[39m:\n\u001b[1;32m    159\u001b[0m \u001b[38;5;250m    \u001b[39m\u001b[38;5;124;03m\"\"\"\u001b[39;00m\n\u001b[1;32m    160\u001b[0m \u001b[38;5;124;03m    Alias for the predict method, enabling the model instance to be callable for predictions.\u001b[39;00m\n\u001b[1;32m    161\u001b[0m \n\u001b[0;32m   (...)\u001b[0m\n\u001b[1;32m    180\u001b[0m \u001b[38;5;124;03m        ...     print(f\"Detected {len(r)} objects in image\")\u001b[39;00m\n\u001b[1;32m    181\u001b[0m \u001b[38;5;124;03m    \"\"\"\u001b[39;00m\n\u001b[0;32m--> 182\u001b[0m     \u001b[38;5;28;01mreturn\u001b[39;00m \u001b[38;5;28;43mself\u001b[39;49m\u001b[38;5;241;43m.\u001b[39;49m\u001b[43mpredict\u001b[49m\u001b[43m(\u001b[49m\u001b[43msource\u001b[49m\u001b[43m,\u001b[49m\u001b[43m \u001b[49m\u001b[43mstream\u001b[49m\u001b[43m,\u001b[49m\u001b[43m \u001b[49m\u001b[38;5;241;43m*\u001b[39;49m\u001b[38;5;241;43m*\u001b[39;49m\u001b[43mkwargs\u001b[49m\u001b[43m)\u001b[49m\n",
      "File \u001b[0;32m~/.local/lib/python3.8/site-packages/ultralytics/engine/model.py:553\u001b[0m, in \u001b[0;36mModel.predict\u001b[0;34m(self, source, stream, predictor, **kwargs)\u001b[0m\n\u001b[1;32m    551\u001b[0m \u001b[38;5;28;01mif\u001b[39;00m \u001b[38;5;129;01mnot\u001b[39;00m \u001b[38;5;28mself\u001b[39m\u001b[38;5;241m.\u001b[39mpredictor:\n\u001b[1;32m    552\u001b[0m     \u001b[38;5;28mself\u001b[39m\u001b[38;5;241m.\u001b[39mpredictor \u001b[38;5;241m=\u001b[39m (predictor \u001b[38;5;129;01mor\u001b[39;00m \u001b[38;5;28mself\u001b[39m\u001b[38;5;241m.\u001b[39m_smart_load(\u001b[38;5;124m\"\u001b[39m\u001b[38;5;124mpredictor\u001b[39m\u001b[38;5;124m\"\u001b[39m))(overrides\u001b[38;5;241m=\u001b[39margs, _callbacks\u001b[38;5;241m=\u001b[39m\u001b[38;5;28mself\u001b[39m\u001b[38;5;241m.\u001b[39mcallbacks)\n\u001b[0;32m--> 553\u001b[0m     \u001b[38;5;28;43mself\u001b[39;49m\u001b[38;5;241;43m.\u001b[39;49m\u001b[43mpredictor\u001b[49m\u001b[38;5;241;43m.\u001b[39;49m\u001b[43msetup_model\u001b[49m\u001b[43m(\u001b[49m\u001b[43mmodel\u001b[49m\u001b[38;5;241;43m=\u001b[39;49m\u001b[38;5;28;43mself\u001b[39;49m\u001b[38;5;241;43m.\u001b[39;49m\u001b[43mmodel\u001b[49m\u001b[43m,\u001b[49m\u001b[43m \u001b[49m\u001b[43mverbose\u001b[49m\u001b[38;5;241;43m=\u001b[39;49m\u001b[43mis_cli\u001b[49m\u001b[43m)\u001b[49m\n\u001b[1;32m    554\u001b[0m \u001b[38;5;28;01melse\u001b[39;00m:  \u001b[38;5;66;03m# only update args if predictor is already setup\u001b[39;00m\n\u001b[1;32m    555\u001b[0m     \u001b[38;5;28mself\u001b[39m\u001b[38;5;241m.\u001b[39mpredictor\u001b[38;5;241m.\u001b[39margs \u001b[38;5;241m=\u001b[39m get_cfg(\u001b[38;5;28mself\u001b[39m\u001b[38;5;241m.\u001b[39mpredictor\u001b[38;5;241m.\u001b[39margs, args)\n",
      "File \u001b[0;32m~/.local/lib/python3.8/site-packages/ultralytics/engine/predictor.py:310\u001b[0m, in \u001b[0;36mBasePredictor.setup_model\u001b[0;34m(self, model, verbose)\u001b[0m\n\u001b[1;32m    308\u001b[0m \u001b[38;5;28;01mdef\u001b[39;00m \u001b[38;5;21msetup_model\u001b[39m(\u001b[38;5;28mself\u001b[39m, model, verbose\u001b[38;5;241m=\u001b[39m\u001b[38;5;28;01mTrue\u001b[39;00m):\n\u001b[1;32m    309\u001b[0m \u001b[38;5;250m    \u001b[39m\u001b[38;5;124;03m\"\"\"Initialize YOLO model with given parameters and set it to evaluation mode.\"\"\"\u001b[39;00m\n\u001b[0;32m--> 310\u001b[0m     \u001b[38;5;28mself\u001b[39m\u001b[38;5;241m.\u001b[39mmodel \u001b[38;5;241m=\u001b[39m \u001b[43mAutoBackend\u001b[49m\u001b[43m(\u001b[49m\n\u001b[1;32m    311\u001b[0m \u001b[43m        \u001b[49m\u001b[43mweights\u001b[49m\u001b[38;5;241;43m=\u001b[39;49m\u001b[43mmodel\u001b[49m\u001b[43m \u001b[49m\u001b[38;5;129;43;01mor\u001b[39;49;00m\u001b[43m \u001b[49m\u001b[38;5;28;43mself\u001b[39;49m\u001b[38;5;241;43m.\u001b[39;49m\u001b[43margs\u001b[49m\u001b[38;5;241;43m.\u001b[39;49m\u001b[43mmodel\u001b[49m\u001b[43m,\u001b[49m\n\u001b[1;32m    312\u001b[0m \u001b[43m        \u001b[49m\u001b[43mdevice\u001b[49m\u001b[38;5;241;43m=\u001b[39;49m\u001b[43mselect_device\u001b[49m\u001b[43m(\u001b[49m\u001b[38;5;28;43mself\u001b[39;49m\u001b[38;5;241;43m.\u001b[39;49m\u001b[43margs\u001b[49m\u001b[38;5;241;43m.\u001b[39;49m\u001b[43mdevice\u001b[49m\u001b[43m,\u001b[49m\u001b[43m \u001b[49m\u001b[43mverbose\u001b[49m\u001b[38;5;241;43m=\u001b[39;49m\u001b[43mverbose\u001b[49m\u001b[43m)\u001b[49m\u001b[43m,\u001b[49m\n\u001b[1;32m    313\u001b[0m \u001b[43m        \u001b[49m\u001b[43mdnn\u001b[49m\u001b[38;5;241;43m=\u001b[39;49m\u001b[38;5;28;43mself\u001b[39;49m\u001b[38;5;241;43m.\u001b[39;49m\u001b[43margs\u001b[49m\u001b[38;5;241;43m.\u001b[39;49m\u001b[43mdnn\u001b[49m\u001b[43m,\u001b[49m\n\u001b[1;32m    314\u001b[0m \u001b[43m        \u001b[49m\u001b[43mdata\u001b[49m\u001b[38;5;241;43m=\u001b[39;49m\u001b[38;5;28;43mself\u001b[39;49m\u001b[38;5;241;43m.\u001b[39;49m\u001b[43margs\u001b[49m\u001b[38;5;241;43m.\u001b[39;49m\u001b[43mdata\u001b[49m\u001b[43m,\u001b[49m\n\u001b[1;32m    315\u001b[0m \u001b[43m        \u001b[49m\u001b[43mfp16\u001b[49m\u001b[38;5;241;43m=\u001b[39;49m\u001b[38;5;28;43mself\u001b[39;49m\u001b[38;5;241;43m.\u001b[39;49m\u001b[43margs\u001b[49m\u001b[38;5;241;43m.\u001b[39;49m\u001b[43mhalf\u001b[49m\u001b[43m,\u001b[49m\n\u001b[1;32m    316\u001b[0m \u001b[43m        \u001b[49m\u001b[43mbatch\u001b[49m\u001b[38;5;241;43m=\u001b[39;49m\u001b[38;5;28;43mself\u001b[39;49m\u001b[38;5;241;43m.\u001b[39;49m\u001b[43margs\u001b[49m\u001b[38;5;241;43m.\u001b[39;49m\u001b[43mbatch\u001b[49m\u001b[43m,\u001b[49m\n\u001b[1;32m    317\u001b[0m \u001b[43m        \u001b[49m\u001b[43mfuse\u001b[49m\u001b[38;5;241;43m=\u001b[39;49m\u001b[38;5;28;43;01mTrue\u001b[39;49;00m\u001b[43m,\u001b[49m\n\u001b[1;32m    318\u001b[0m \u001b[43m        \u001b[49m\u001b[43mverbose\u001b[49m\u001b[38;5;241;43m=\u001b[39;49m\u001b[43mverbose\u001b[49m\u001b[43m,\u001b[49m\n\u001b[1;32m    319\u001b[0m \u001b[43m    \u001b[49m\u001b[43m)\u001b[49m\n\u001b[1;32m    321\u001b[0m     \u001b[38;5;28mself\u001b[39m\u001b[38;5;241m.\u001b[39mdevice \u001b[38;5;241m=\u001b[39m \u001b[38;5;28mself\u001b[39m\u001b[38;5;241m.\u001b[39mmodel\u001b[38;5;241m.\u001b[39mdevice  \u001b[38;5;66;03m# update device\u001b[39;00m\n\u001b[1;32m    322\u001b[0m     \u001b[38;5;28mself\u001b[39m\u001b[38;5;241m.\u001b[39margs\u001b[38;5;241m.\u001b[39mhalf \u001b[38;5;241m=\u001b[39m \u001b[38;5;28mself\u001b[39m\u001b[38;5;241m.\u001b[39mmodel\u001b[38;5;241m.\u001b[39mfp16  \u001b[38;5;66;03m# update half\u001b[39;00m\n",
      "File \u001b[0;32m~/.local/lib/python3.8/site-packages/torch/utils/_contextlib.py:116\u001b[0m, in \u001b[0;36mcontext_decorator.<locals>.decorate_context\u001b[0;34m(*args, **kwargs)\u001b[0m\n\u001b[1;32m    113\u001b[0m \u001b[38;5;129m@functools\u001b[39m\u001b[38;5;241m.\u001b[39mwraps(func)\n\u001b[1;32m    114\u001b[0m \u001b[38;5;28;01mdef\u001b[39;00m \u001b[38;5;21mdecorate_context\u001b[39m(\u001b[38;5;241m*\u001b[39margs, \u001b[38;5;241m*\u001b[39m\u001b[38;5;241m*\u001b[39mkwargs):\n\u001b[1;32m    115\u001b[0m     \u001b[38;5;28;01mwith\u001b[39;00m ctx_factory():\n\u001b[0;32m--> 116\u001b[0m         \u001b[38;5;28;01mreturn\u001b[39;00m \u001b[43mfunc\u001b[49m\u001b[43m(\u001b[49m\u001b[38;5;241;43m*\u001b[39;49m\u001b[43margs\u001b[49m\u001b[43m,\u001b[49m\u001b[43m \u001b[49m\u001b[38;5;241;43m*\u001b[39;49m\u001b[38;5;241;43m*\u001b[39;49m\u001b[43mkwargs\u001b[49m\u001b[43m)\u001b[49m\n",
      "File \u001b[0;32m~/.local/lib/python3.8/site-packages/ultralytics/nn/autobackend.py:420\u001b[0m, in \u001b[0;36mAutoBackend.__init__\u001b[0;34m(self, weights, device, dnn, data, fp16, batch, fuse, verbose)\u001b[0m\n\u001b[1;32m    418\u001b[0m \u001b[38;5;66;03m# TF.js\u001b[39;00m\n\u001b[1;32m    419\u001b[0m \u001b[38;5;28;01melif\u001b[39;00m tfjs:\n\u001b[0;32m--> 420\u001b[0m     \u001b[38;5;28;01mraise\u001b[39;00m \u001b[38;5;167;01mNotImplementedError\u001b[39;00m(\u001b[38;5;124m\"\u001b[39m\u001b[38;5;124mYOLOv8 TF.js inference is not currently supported.\u001b[39m\u001b[38;5;124m\"\u001b[39m)\n\u001b[1;32m    422\u001b[0m \u001b[38;5;66;03m# PaddlePaddle\u001b[39;00m\n\u001b[1;32m    423\u001b[0m \u001b[38;5;28;01melif\u001b[39;00m paddle:\n",
      "\u001b[0;31mNotImplementedError\u001b[0m: YOLOv8 TF.js inference is not currently supported."
     ]
    }
   ],
   "source": [
    "# Load the exported TF.js model\n",
    "tfjs_model = YOLO(\"./best_web_model\")\n",
    "\n",
    "# Run inference\n",
    "results = tfjs_model(\"datasets/goat_yolo_v11/test/images/1294_jpg.rf.22f6fc35b32c014b57856baf0343fd97.jpg\")"
   ]
  },
  {
   "cell_type": "code",
   "execution_count": null,
   "id": "1a0ee8ae-612c-4ec5-8ef3-52db5bc0952e",
   "metadata": {},
   "outputs": [
    {
     "name": "stdout",
     "output_type": "stream",
     "text": [
      "\n",
      "image 1/1 /home/jonas/projects/jupyterlab/datasets/erste_messung/IMG_1600_Twentyone.JPG: 640x480 1 goat, 132.8ms\n",
      "Speed: 7.7ms preprocess, 132.8ms inference, 9.1ms postprocess per image at shape (1, 3, 640, 480)\n",
      "start 106\n",
      "end 398\n",
      "front_feed_x 170\n",
      "back_feed_x 397\n",
      "body_length: 274\n",
      "shoulder_height: 208\n",
      "sacrum_height: 197\n",
      "body_length cm: 91.07476515249002\n",
      "shoulder height cm:  69.13704799897054\n",
      "sacrum height cm: 65.48076180671728\n"
     ]
    },
    {
     "data": {
      "image/png": "[encoded data removed]",
      "text/plain": [
       "<Figure size 640x480 with 1 Axes>"
      ]
     },
     "metadata": {},
     "output_type": "display_data"
    }
   ],
   "source": [
    "path = \"datasets/erste_messung/IMG_1600_Twentyone.JPG\"\n",
    "\n",
    "# Predict with the model\n",
    "results = model(path)  # predict on an image\n",
    "\n",
    "for result in results:\n",
    "    mask = result.masks.data.cpu()[0]\n",
    "    body_length, shoulder_height, sacrum_height = utils.body_measurement(mask.numpy())\n",
    "    distance = 1.64\n",
    "    body_length = utils.pixels_to_cm(scale_to_width(body_length), distance)\n",
    "    shoulder_height = utils.pixels_to_cm(scale_to_height(shoulder_height), distance)\n",
    "    sacrum_height = utils.pixels_to_cm(scale_to_height(sacrum_height), distance)\n",
    "    print(\"body_length cm:\", body_length)\n",
    "    print(\"shoulder height cm: \", shoulder_height)\n",
    "    print(\"sacrum height cm:\", sacrum_height)\n",
    "\n",
    "    "
   ]
  }
 ],
 "metadata": {
  "kernelspec": {
   "display_name": ".venv",
   "language": "python",
   "name": "python3"
  },
  "language_info": {
   "codemirror_mode": {
    "name": "ipython",
    "version": 3
   },
   "file_extension": ".py",
   "mimetype": "text/x-python",
   "name": "python",
   "nbconvert_exporter": "python",
   "pygments_lexer": "ipython3",
   "version": "3.11.11"
  }
 },
 "nbformat": 4,
 "nbformat_minor": 5
}
