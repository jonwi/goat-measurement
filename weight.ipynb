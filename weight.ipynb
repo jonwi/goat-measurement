{
 "cells": [
  {
   "cell_type": "code",
   "execution_count": null,
   "id": "0f50e437-128a-46b8-b1eb-39da9b6dc7d5",
   "metadata": {},
   "outputs": [],
   "source": [
    "import pandas as pd\n",
    "import numpy as pn\n",
    "import numpy as np\n",
    "\n",
    "df = pd.read_csv(\"measurements.csv\")\n",
    "df\n"
   ]
  },
  {
   "cell_type": "code",
   "execution_count": null,
   "id": "ee393fed-6a93-44bb-b90c-265d02d0d97e",
   "metadata": {},
   "outputs": [],
   "source": [
    "from sklearn.pipeline import Pipeline\n",
    "from sklearn.preprocessing import PolynomialFeatures, StandardScaler\n",
    "from sklearn.linear_model import LinearRegression\n",
    "\n",
    "# Create the pipeline\n",
    "model = Pipeline([\n",
    "    #('poly_features', PolynomialFeatures(degree=2, include_bias=False)),  # Generate polynomial features\n",
    "    #('std_scaler', StandardScaler()),  # Standardize the features\n",
    "    ('lin_reg', LinearRegression())  # Apply linear regression\n",
    "])\n",
    "model.fit(df.drop([\"gewicht\", \"brustumfang\"], axis=1), df[\"gewicht\"])\n",
    "print(model.get_params()[\"lin_reg\"].intercept_)\n",
    "print(model.get_params()[\"lin_reg\"].coef_)"
   ]
  },
  {
   "cell_type": "code",
   "execution_count": null,
   "id": "ca4a6991-f7a5-480e-a3df-6c3ebe0d5460",
   "metadata": {},
   "outputs": [],
   "source": [
    "truth = pd.read_csv(\"daten.csv\")\n",
    "truth\n"
   ]
  },
  {
   "cell_type": "code",
   "execution_count": null,
   "id": "ee5aea03-10f7-461e-9854-4b8ab73fc38d",
   "metadata": {},
   "outputs": [],
   "source": [
    "from sklearn.metrics import mean_squared_error\n",
    "\n",
    "result = model.predict(truth.drop([\"gewicht\", \"brustumfang\"], axis=1))\n",
    "print(result)\n",
    "print(truth[\"gewicht\"])\n",
    "mse = mean_squared_error(truth[\"gewicht\"], result)\n",
    "mse"
   ]
  },
  {
   "cell_type": "code",
   "execution_count": null,
   "id": "4565469c",
   "metadata": {},
   "outputs": [],
   "source": [
    "model.predict([[82.04,  74,  70]])"
   ]
  }
 ],
 "metadata": {
  "kernelspec": {
   "display_name": ".venv",
   "language": "python",
   "name": "python3"
  },
  "language_info": {
   "codemirror_mode": {
    "name": "ipython",
    "version": 3
   },
   "file_extension": ".py",
   "mimetype": "text/x-python",
   "name": "python",
   "nbconvert_exporter": "python",
   "pygments_lexer": "ipython3",
   "version": "3.11.11"
  }
 },
 "nbformat": 4,
 "nbformat_minor": 5
}
